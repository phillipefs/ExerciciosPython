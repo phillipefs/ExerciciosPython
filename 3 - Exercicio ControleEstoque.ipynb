{
 "cells": [
  {
   "cell_type": "markdown",
   "source": [
    "# Exercícios"
   ],
   "metadata": {}
  },
  {
   "cell_type": "markdown",
   "source": [
    "## 1. Criando um mini sistema de controle de estoque\n",
    "\n",
    "- Crie um sistema para ser usado pelo time de controle de estoque de um centro de distribuição.\n",
    "- Imagine que ao fim de todo dia, o time conta quantas unidades de produto existem no estoque. Se tivermos um estoque abaixo do estoque permitido para aquela categoria do produto, o time deve ser avisado (print) para fazer um novo pedido daquele produto.\n",
    "- Cada categoria de produto tem um estoque mínimo diferente, segundo a regra abaixo:\n",
    "\n",
    "- alimentos -> Estoque mínimo: 50\n",
    "- bebidas -> Estoque mínimo: 75\n",
    "- limpeza -> Estoque mínimo: 30\n",
    "\n",
    "Para isso vamos criar um programa que pede 3 inputs do usuário: nome do produto, categoria e quantidade atual em estoque.\n",
    "\n",
    "Se o produto tiver abaixo do estoque mínimo da categoria dele, o programa deve printar a mensagem \"Solicitar {produto} à equipe de compras, temos apenas {unidades} em estoque\"\n",
    "\n",
    "Exemplo: Se o usuário preenche os inputs com: bebidas, dolly, 90, o programa não deve exibir nenhuma mensagem.<br>\n",
    "Agora, se o usuário preenche os inputs com: bebidas, guaraná, 60, o programa deve exibir a mensagem \"Solicitar guaraná à equipe de compras, temos apenas 60 unidades em estoque.\n",
    "\n",
    "Obs: lembre de usar o int() para transformar o número inserido pelo usuário no input de string para int.<br>\n",
    "Obs2: Caso o usuário não preencha alguma das 3 informações, o programa deve exibir uma mensagem para avisá-lo de preencher corretamente."
   ],
   "metadata": {}
  },
  {
   "cell_type": "code",
   "execution_count": 27,
   "source": [
    "min_bebidas = 75\r\n",
    "min_limpeza = 30\r\n",
    "min_alimentos = 50\r\n",
    "\r\n",
    "produto = input(\"Digite o nome do produto: \")\r\n",
    "categoria = input(\"Digite a categoria do produto: \")\r\n",
    "estoque = input(\"Quantidade atual em estoque: \")\r\n",
    "\r\n",
    "if produto and categoria and estoque:\r\n",
    "    estoque = int(estoque)\r\n",
    "    if categoria == 'bebidas' and estoque < min_bebidas:\r\n",
    "        print(\"Solicitar mais {} a equipe de compras, temos apenas {} unidades em estoque.\".format(produto,estoque))\r\n",
    "    elif categoria == 'alimentos' and estoque < min_alimentos:\r\n",
    "        print(\"Solicitar mais {} a equipe de compras, temos apenas {} unidades em estoque.\".format(produto,estoque))\r\n",
    "    elif categoria == 'limpeza' and estoque < min_limpeza:\r\n",
    "        print(\"Solicitar mais {} a equipe de compras, temos apenas {} unidades em estoque.\".format(produto,estoque))\r\n",
    "    elif categoria == 'limpeza' or categoria == 'bebidas' or categoria == 'alimentos':\r\n",
    "        print(\"O estoque de {} está abastecido.\".format(produto))\r\n",
    "    else:\r\n",
    "        print(\"Digite uma categoria válida.\")\r\n",
    "\r\n",
    "else: \r\n",
    "    print(\"Todos os campos devem ser preenchidos.\")"
   ],
   "outputs": [
    {
     "output_type": "stream",
     "name": "stdout",
     "text": [
      "Todos os campos devem ser preenchidos.\n"
     ]
    }
   ],
   "metadata": {}
  }
 ],
 "metadata": {
  "kernelspec": {
   "name": "python3",
   "display_name": "Python 3.9.6 64-bit"
  },
  "language_info": {
   "codemirror_mode": {
    "name": "ipython",
    "version": 3
   },
   "file_extension": ".py",
   "mimetype": "text/x-python",
   "name": "python",
   "nbconvert_exporter": "python",
   "pygments_lexer": "ipython3",
   "version": "3.9.6"
  },
  "interpreter": {
   "hash": "e4bfd4a1e25b52614df0ea3d2a9f528fe07ea6cf6389d30a64eed3046b397ae6"
  }
 },
 "nbformat": 4,
 "nbformat_minor": 4
}