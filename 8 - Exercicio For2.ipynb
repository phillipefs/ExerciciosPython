{
 "cells": [
  {
   "cell_type": "markdown",
   "source": [
    "# Exercícios\n",
    "\n",
    "## 1. Criando um Registro de Hóspedes\n",
    "\n",
    "Digamos que você está criando o sistema para registrar a chegada de hóspedes em um hotel. No hotel, os hóspedes podem ter quartos com 1, 2, 3 e 4 pessoas. Seu sistema deve conseguir:\n",
    "\n",
    "1. Identificar quantas pessoas o hóspede que acabou de chegar vai ter no quarto (perguntando por meio de input)\n",
    "2. De acordo com a quantidade de pessoas do hóspede, ele deve fazer um for para perguntar o cpf e o nome de cada pessoa, a fim de registrá-la no quarto (2 inputs para cada pessoa, 1 para o cpf e outro para o nome)\n",
    "3. O seu programa então deve gerar uma lista com todas as pessoas que ficarão no quarto em que cada item dessa lista é o nome da pessoa e o cpf da pessoa, assim:"
   ],
   "metadata": {}
  },
  {
   "cell_type": "raw",
   "source": [
    "quarto = [\r\n",
    "    ['João', 'cpf:00000000000'],\r\n",
    "    ['Julia', 'cpf:11111111111'],\r\n",
    "    ['Marcus', 'cpf:22222222222'],\r\n",
    "    ['Maria', 'cpf:33333333333'],\r\n",
    "]"
   ],
   "metadata": {}
  },
  {
   "cell_type": "markdown",
   "source": [
    "- Para simplificar, não vamos nos preocupar com possibilidades de \"tentar colocar mais de 1 hóspede, digitar o cpf errado, etc. Nosso objetivo é treinar a criação de uma rotina de cadastro"
   ],
   "metadata": {}
  },
  {
   "cell_type": "code",
   "execution_count": null,
   "source": [],
   "outputs": [],
   "metadata": {}
  },
  {
   "cell_type": "code",
   "execution_count": 13,
   "source": [
    "quarto = []\r\n",
    "qtds_pessoas = int(input('Quantos hospedes tera no quarto ?'))\r\n",
    "for pessoa in range(qtds_pessoas):    \r\n",
    "    cpf_hospede = input('Digite o CPF do hospede #{}'.format(pessoa))\r\n",
    "    nome_hospede = input('Digite o Nome do hospede #{}'.format(pessoa))\r\n",
    "    cpf_hospede = 'cpf:'+ cpf_hospede\r\n",
    "    quarto.append([nome_hospede, cpf_hospede])\r\n",
    "\r\n",
    "print(quarto)"
   ],
   "outputs": [
    {
     "output_type": "stream",
     "name": "stdout",
     "text": [
      "[['João', 'cpf:00000000000'], ['Julia', 'cpf:11111111111'], ['Marcus', 'cpf:22222222222'], ['Maria', 'cpf:33333333333']]\n"
     ]
    }
   ],
   "metadata": {}
  },
  {
   "cell_type": "markdown",
   "source": [
    "## 2. Análise de Vendas\n",
    "\n",
    "Nesse exercício vamos fazer uma \"análise simples\" de atingimento de Meta.\n",
    "\n",
    "Temos uma lista com os vendedores e os valores de vendas e queremos identificar (printar) quais os vendedores que bateram a meta e qual foi o valor que eles venderam."
   ],
   "metadata": {}
  },
  {
   "cell_type": "code",
   "execution_count": 18,
   "source": [
    "meta = 10000\r\n",
    "vendas = [\r\n",
    "    ['João', 15000],\r\n",
    "    ['Julia', 27000],\r\n",
    "    ['Marcus', 9900],\r\n",
    "    ['Maria', 3750],\r\n",
    "    ['Ana', 10300],\r\n",
    "    ['Alon', 7870],\r\n",
    "]\r\n",
    "for venda in vendas:\r\n",
    "    if venda[1] >= meta:\r\n",
    "        print('O(a) vendedor(a) {} vendeu {} e bateu a meta'.format(venda[0],venda[1]))"
   ],
   "outputs": [
    {
     "output_type": "stream",
     "name": "stdout",
     "text": [
      "O(a) vendedor(a) João vendeu 15000 e bateu a meta\n",
      "O(a) vendedor(a) Julia vendeu 27000 e bateu a meta\n",
      "O(a) vendedor(a) Ana vendeu 10300 e bateu a meta\n"
     ]
    }
   ],
   "metadata": {}
  },
  {
   "cell_type": "markdown",
   "source": [
    "## 3. Comparação com Ano Anterior\n",
    "\n",
    "Digamos que você está analisando as vendas de produtos de um ecommerce e quer identificar quais produtos tiveram no ano de 2020 mais vendas do que no ano de 2019, para reportar isso para a diretoria.\n",
    "\n",
    "Sua resposta pode ser um print de cada produto, qual foi a venda de 2019, a venda de 2020 e o % de crescimento de 2020 para 2019.\n",
    "\n",
    "Lembrando, para calcular o % de crescimento de um produto de um ano para o outro, podemos fazer: (vendas_produto2020/vendas_produto2019 - 1)\n",
    "\n",
    "Dica: lembre do enumerate, ele pode facilitar seu \"for\""
   ],
   "metadata": {}
  },
  {
   "cell_type": "code",
   "execution_count": 61,
   "source": [
    "produtos = ['iphone', 'galaxy', 'ipad', 'tv', 'máquina de café', 'kindle', 'geladeira', 'adega', 'notebook dell', 'notebook hp', 'notebook asus', 'microsoft surface', 'webcam', 'caixa de som', 'microfone', 'câmera canon']\r\n",
    "vendas2019 = [558147,712350,573823,405252,718654,531580,973139,892292,422760,154753,887061,438508,237467,489705,328311,591120]\r\n",
    "vendas2020 = [951642,244295,26964,787604,867660,78830,710331,646016,694913,539704,324831,667179,295633,725316,644622,994303]\r\n",
    "\r\n",
    "for i, produto in enumerate(produtos):\r\n",
    "    if vendas2020[i] > vendas2019[i]:\r\n",
    "        crescimento = vendas2020[i]/vendas2019[i] -1\r\n",
    "        print('{} vendeu R${:,} em 2019, R${:,} em 2020 e teve {:.1%} de crescimento.'.format(produto.title(), vendas2019[i], vendas2020[i], crescimento))"
   ],
   "outputs": [
    {
     "output_type": "stream",
     "name": "stdout",
     "text": [
      "Iphone vendeu R$558,147 em 2019, R$951,642 em 2020 e teve 70.5% de crescimento.\n",
      "Tv vendeu R$405,252 em 2019, R$787,604 em 2020 e teve 94.3% de crescimento.\n",
      "Máquina De Café vendeu R$718,654 em 2019, R$867,660 em 2020 e teve 20.7% de crescimento.\n",
      "Notebook Dell vendeu R$422,760 em 2019, R$694,913 em 2020 e teve 64.4% de crescimento.\n",
      "Notebook Hp vendeu R$154,753 em 2019, R$539,704 em 2020 e teve 248.8% de crescimento.\n",
      "Microsoft Surface vendeu R$438,508 em 2019, R$667,179 em 2020 e teve 52.1% de crescimento.\n",
      "Webcam vendeu R$237,467 em 2019, R$295,633 em 2020 e teve 24.5% de crescimento.\n",
      "Caixa De Som vendeu R$489,705 em 2019, R$725,316 em 2020 e teve 48.1% de crescimento.\n",
      "Microfone vendeu R$328,311 em 2019, R$644,622 em 2020 e teve 96.3% de crescimento.\n",
      "Câmera Canon vendeu R$591,120 em 2019, R$994,303 em 2020 e teve 68.2% de crescimento.\n"
     ]
    }
   ],
   "metadata": {}
  }
 ],
 "metadata": {
  "kernelspec": {
   "name": "python3",
   "display_name": "Python 3.9.6 64-bit"
  },
  "language_info": {
   "codemirror_mode": {
    "name": "ipython",
    "version": 3
   },
   "file_extension": ".py",
   "mimetype": "text/x-python",
   "name": "python",
   "nbconvert_exporter": "python",
   "pygments_lexer": "ipython3",
   "version": "3.9.6"
  },
  "interpreter": {
   "hash": "e4bfd4a1e25b52614df0ea3d2a9f528fe07ea6cf6389d30a64eed3046b397ae6"
  }
 },
 "nbformat": 4,
 "nbformat_minor": 4
}