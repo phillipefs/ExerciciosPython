{
 "cells": [
  {
   "cell_type": "markdown",
   "source": [
    "# Exercícios com if"
   ],
   "metadata": {}
  },
  {
   "cell_type": "markdown",
   "source": [
    "## 1. Cálculo de Bônus\n",
    "\n",
    "- Crie um programa que calcule e dê um print no bônus que os funcionários devem receber segundo a regra:\n",
    "\n",
    "A meta é 1000 vendas.<br> \n",
    "Se o valor de vendas for maior ou igual a meta, o valor do bônus do funcionário é 10% do valor de vendas.<br>\n",
    "Caso contrário o valor de bônus do funcionário é 0.<br>\n",
    "Print o bônus dos 3 funcionários"
   ],
   "metadata": {}
  },
  {
   "cell_type": "code",
   "execution_count": 14,
   "source": [
    "vendas_funcionario1 = 1000\r\n",
    "vendas_funcionario2 = 770\r\n",
    "vendas_funcionario3 = 2700\r\n",
    "meta = 1000\r\n",
    "\r\n",
    "if vendas_funcionario1 >= meta:\r\n",
    "    bonus = vendas_funcionario1 * 0.10    \r\n",
    "else:\r\n",
    "    bonus = 0  \r\n",
    "print('O funcionário 1 ganhou {} de bônus'.format(bonus))\r\n",
    "\r\n",
    "if vendas_funcionario2 >= meta:\r\n",
    "    bonus = vendas_funcionario2 * 0.10    \r\n",
    "else:\r\n",
    "    bonus = 0  \r\n",
    "print('O funcionário 2 ganhou {} de bônus'.format(bonus))\r\n",
    "\r\n",
    "if vendas_funcionario3 >= meta:\r\n",
    "    bonus = vendas_funcionario3 * 0.10    \r\n",
    "else:\r\n",
    "    bonus = 0  \r\n",
    "print('O funcionário 3 ganhou {} de bônus'.format(bonus))\r\n",
    "\r\n"
   ],
   "outputs": [
    {
     "output_type": "stream",
     "name": "stdout",
     "text": [
      "O funcionário 1 ganhou 100.0 de bônus\n",
      "O funcionário 2 ganhou 0 de bônus\n",
      "O funcionário 3 ganhou 270.0 de bônus\n"
     ]
    }
   ],
   "metadata": {}
  },
  {
   "cell_type": "raw",
   "source": [
    "Resposta:\r\n",
    "O funcionário 1 ganhou 100 de bônus\r\n",
    "O funcionário 2 ganhou 0 de bônus\r\n",
    "O funcionário 3 ganhou 270 de bônus"
   ],
   "metadata": {}
  },
  {
   "cell_type": "markdown",
   "source": [
    "## 2. Cálculo de bônus com uma nova regra\n",
    "\n",
    "- Agora, crie um novo código que calcule e dê um print no bônus dos funcionários novamente. Porém há uma nova regra nesse 2º caso:\n",
    "\n",
    "A meta é 1000 vendas<br>\n",
    "Agora, os funcionários que venderem muito acima da meta ganham mais bônus do que os outros. Então o bônus é definido da seguinte forma:<br>\n",
    "\n",
    "- Se vendas funcionário for maior ou igual a 2000, então o bônus é de 15% sobre o valor de vendas\n",
    "- Se vendas funcionário for menor do que 2000 e maior ou igual a 1000, então o bônus é de 10% sobre o valor de vendas\n",
    "- Se vendas funcionário for menos do que 1000 então o bônus do funcionário é de 0.\n",
    "\n",
    "Use as mesmas variáveis de vendas_funcionários"
   ],
   "metadata": {}
  },
  {
   "cell_type": "code",
   "execution_count": 28,
   "source": [
    "if vendas_funcionario1 >= meta * 2:\r\n",
    "    bonus = vendas_funcionario1 * 0.15\r\n",
    "elif vendas_funcionario1 <= meta * 2 and vendas_funcionario1 >= meta:\r\n",
    "    bonus = vendas_funcionario1 * 0.10\r\n",
    "else :\r\n",
    "    bonus = 0\r\n",
    "print('O funcionário 1 ganhou {} de bônus'.format(bonus))\r\n",
    "\r\n",
    "if vendas_funcionario2 >= meta * 2:\r\n",
    "    bonus = vendas_funcionario2 * 0.15\r\n",
    "elif vendas_funcionario2 <= meta * 2 and vendas_funcionario2 >= meta:\r\n",
    "    bonus = vendas_funcionario2 * 0.10\r\n",
    "else :\r\n",
    "    bonus = 0\r\n",
    "print('O funcionário 1 ganhou {} de bônus'.format(bonus))\r\n",
    "\r\n",
    "if vendas_funcionario3 >= meta * 2:\r\n",
    "    bonus = vendas_funcionario3 * 0.15\r\n",
    "elif vendas_funcionario3 <= meta * 2 and vendas_funcionario3 >= meta:\r\n",
    "    bonus = vendas_funcionario3 * 0.10\r\n",
    "else :\r\n",
    "    bonus = 0\r\n",
    "print('O funcionário 1 ganhou {} de bônus'.format(bonus))\r\n"
   ],
   "outputs": [
    {
     "output_type": "stream",
     "name": "stdout",
     "text": [
      "O funcionário 1 ganhou 100.0 de bônus\n",
      "O funcionário 1 ganhou 0 de bônus\n",
      "O funcionário 1 ganhou 405.0 de bônus\n"
     ]
    }
   ],
   "metadata": {}
  },
  {
   "cell_type": "raw",
   "source": [
    "Resposta:\r\n",
    "O funcionário 1 ganhou 100 de bônus\r\n",
    "O funcionário 2 ganhou 0 de bônus\r\n",
    "O funcionário 3 ganhou 405 de bônus"
   ],
   "metadata": {}
  }
 ],
 "metadata": {
  "kernelspec": {
   "name": "python3",
   "display_name": "Python 3.9.6 64-bit"
  },
  "language_info": {
   "codemirror_mode": {
    "name": "ipython",
    "version": 3
   },
   "file_extension": ".py",
   "mimetype": "text/x-python",
   "name": "python",
   "nbconvert_exporter": "python",
   "pygments_lexer": "ipython3",
   "version": "3.9.6"
  },
  "interpreter": {
   "hash": "e4bfd4a1e25b52614df0ea3d2a9f528fe07ea6cf6389d30a64eed3046b397ae6"
  }
 },
 "nbformat": 4,
 "nbformat_minor": 4
}