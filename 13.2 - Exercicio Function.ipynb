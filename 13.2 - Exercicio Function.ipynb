{
 "cells": [
  {
   "cell_type": "markdown",
   "source": [
    "# Exercícios\n",
    "\n",
    "### Antes de irmos para o desafio que apresentamos na última aula (que é bem mais complexo do que um exemplo simples) vamos resolver um exercício um pouco mais simples para treinar\n",
    "\n",
    "## 1. Cálculo do Percentual e da Lista de Vendedores\n",
    "\n",
    "- Queremos criar uma function que consiga identificar os vendedores que bateram uma meta, mas além disso, consigo já me dar como resposta o cálculo do % da lista de vendedores que bateu a meta (para eu não precisar calcular manualmente depois)\n",
    "- Essa function deve receber 2 informações como parâmetro: a meta e um dicionário com os vendedores e suas vendas. E me dar 2 respostas: uma lista com o nome dos vendedores que bateram a meta e o % de vendedores que bateu a meta."
   ],
   "metadata": {}
  },
  {
   "cell_type": "code",
   "execution_count": 33,
   "source": [
    "meta = 10000\r\n",
    "vendas = {\r\n",
    "    'João': 15000,\r\n",
    "    'Julia': 27000,\r\n",
    "    'Marcus': 9900,\r\n",
    "    'Maria': 3750,\r\n",
    "    'Ana': 10300,\r\n",
    "    'Alon': 7870,\r\n",
    "}"
   ],
   "outputs": [],
   "metadata": {}
  },
  {
   "cell_type": "code",
   "execution_count": 38,
   "source": [
    "def calculo_meta(meta, vendas):\r\n",
    "    bateram_meta = []\r\n",
    "    for vendedor in vendas:\r\n",
    "        if vendas[vendedor] >= meta:\r\n",
    "            bateram_meta.append(vendedor)\r\n",
    "    perc_baterammeta = len(bateram_meta) / len(vendas)\r\n",
    "    return perc_baterammeta, bateram_meta\r\n",
    "\r\n",
    "\r\n",
    "    "
   ],
   "outputs": [],
   "metadata": {}
  },
  {
   "cell_type": "code",
   "execution_count": 39,
   "source": [
    "p_meta, vendedores_acima_meta = calculo_meta(meta, vendas)\r\n",
    "print(p_meta)\r\n",
    "print(vendedores_acima_meta)"
   ],
   "outputs": [
    {
     "output_type": "stream",
     "name": "stdout",
     "text": [
      "0.5\n",
      "['João', 'Julia', 'Ana']\n"
     ]
    }
   ],
   "metadata": {}
  }
 ],
 "metadata": {
  "kernelspec": {
   "name": "python3",
   "display_name": "Python 3.9.6 64-bit"
  },
  "language_info": {
   "codemirror_mode": {
    "name": "ipython",
    "version": 3
   },
   "file_extension": ".py",
   "mimetype": "text/x-python",
   "name": "python",
   "nbconvert_exporter": "python",
   "pygments_lexer": "ipython3",
   "version": "3.9.6"
  },
  "interpreter": {
   "hash": "e4bfd4a1e25b52614df0ea3d2a9f528fe07ea6cf6389d30a64eed3046b397ae6"
  }
 },
 "nbformat": 4,
 "nbformat_minor": 4
}