{
 "cells": [
  {
   "cell_type": "markdown",
   "source": [
    "# Exercícios\n",
    "\n",
    "## 1. Faturamento do Melhor e do Pior Mês do Ano\n",
    "\n",
    "Qual foi o valor de vendas do melhor mês do Ano?\n",
    "E valor do pior mês do ano?"
   ],
   "metadata": {}
  },
  {
   "cell_type": "code",
   "execution_count": 81,
   "source": [
    "meses = ['jan', 'fev', 'mar', 'abr', 'mai', 'jun', 'jul', 'ago', 'set', 'out', 'nov', 'dez']\r\n",
    "vendas_1sem = [25000, 29000, 22200, 17750, 15870, 19900]\r\n",
    "vendas_2sem = [19850, 20120, 17540, 15555, 49051, 9650]\r\n",
    "\r\n",
    "vendas_anual = vendas_1sem + vendas_2sem\r\n",
    "\r\n",
    "print(min(vendas_anual))\r\n",
    "print(max(vendas_anual))"
   ],
   "outputs": [
    {
     "output_type": "stream",
     "name": "stdout",
     "text": [
      "9650\n",
      "49051\n"
     ]
    }
   ],
   "metadata": {}
  },
  {
   "cell_type": "markdown",
   "source": [
    "## 2. Continuação\n",
    "\n",
    "Agora relacione as duas listas para printar 'O melhor mês do ano foi {} com {} vendas' e o mesmo para o pior mês do ano.\n",
    "\n",
    "Calcule também o faturamento total do Ano e quanto que o melhor mês representou do faturamento total.\n",
    "\n",
    "Obs: Para o faturamento total, pode usar a função sum(lista) que soma todos os itens de uma lista"
   ],
   "metadata": {}
  },
  {
   "cell_type": "code",
   "execution_count": 113,
   "source": [
    "faturamento_total = sum(vendas_anual)\r\n",
    "i_max = vendas_anual.index(max(vendas_anual))\r\n",
    "i_min = vendas_anual.index(min(vendas_anual))\r\n",
    "percentual_melhor_mes = format(vendas_anual[i_max]/faturamento_total*100,'.2f')\r\n",
    "\r\n",
    "print('O melhor mês do ano foi {} com {} vendas.'.format(meses[i_max],vendas_anual[i_max]))\r\n",
    "print('O pior mês do ano foi {} com {} vendas'.format(meses[i_min],vendas_anual[i_min]))\r\n",
    "print('Faturamento Total: R${:,}'.format(faturamento_total))\r\n",
    "print('O melhor mês do ano representou {} % do faturamento'.format(percentual_melhor_mes)) #Poderia utilizar {:.2%} para formatar em % com 2 casas"
   ],
   "outputs": [
    {
     "output_type": "stream",
     "name": "stdout",
     "text": [
      "O melhor mês do ano foi jan com 49051 vendas.\n",
      "O pior mês do ano foi dez com 9650 vendas\n",
      "Faturamento Total: R$261,486\n",
      "O melhor mês do ano representou 18.76 % do faturamento\n"
     ]
    }
   ],
   "metadata": {}
  },
  {
   "cell_type": "markdown",
   "source": [
    "## 3. Crie uma lista com o top 3 valores de vendas do ano (sem fazer \"no olho\")\n",
    "\n",
    "Dica: o método remove retira um item da lista."
   ],
   "metadata": {}
  },
  {
   "cell_type": "code",
   "execution_count": 98,
   "source": [
    "vendas_anual.sort(reverse= True)\r\n",
    "top3 = []\r\n",
    "count = 0 \r\n",
    "\r\n",
    "while (count < 3):\r\n",
    "    top3.append(vendas_anual[count])\r\n",
    "    count = count + 1\r\n",
    "\r\n",
    "print(top3)"
   ],
   "outputs": [
    {
     "output_type": "stream",
     "name": "stdout",
     "text": [
      "[49051, 29000, 25000]\n"
     ]
    }
   ],
   "metadata": {}
  }
 ],
 "metadata": {
  "kernelspec": {
   "display_name": "Python 3",
   "language": "python",
   "name": "python3"
  },
  "language_info": {
   "codemirror_mode": {
    "name": "ipython",
    "version": 3
   },
   "file_extension": ".py",
   "mimetype": "text/x-python",
   "name": "python",
   "nbconvert_exporter": "python",
   "pygments_lexer": "ipython3",
   "version": "3.8.3"
  }
 },
 "nbformat": 4,
 "nbformat_minor": 4
}