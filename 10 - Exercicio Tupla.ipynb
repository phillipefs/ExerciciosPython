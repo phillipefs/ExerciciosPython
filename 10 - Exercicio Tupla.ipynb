{
 "cells": [
  {
   "cell_type": "markdown",
   "source": [
    "# Exercícios\n",
    "\n",
    "São exercícios bem parecidos com os que fizemos com listas. Mas na tupla, podemos não só trabalhar com índices, mas fazer o \"unpacking\" das tuplas, o que pode facilitar nossos códigos.\n",
    "\n",
    "## 1. Análise de Vendas\n",
    "\n",
    "Nesse exercício vamos fazer uma \"análise simples\" de atingimento de Meta.\n",
    "\n",
    "Temos uma lista com os vendedores e os valores de vendas e queremos identificar (printar) quais os vendedores que bateram a meta e qual foi o valor que eles venderam."
   ],
   "metadata": {}
  },
  {
   "cell_type": "code",
   "execution_count": 23,
   "source": [
    "meta = 10000\r\n",
    "vendas = [\r\n",
    "    ('João', 15000),\r\n",
    "    ('Julia', 27000),\r\n",
    "    ('Marcus', 9900),\r\n",
    "    ('Maria', 3750),\r\n",
    "    ('Ana', 10300),\r\n",
    "    ('Alon', 7870),\r\n",
    "]\r\n",
    "for venda in vendas:\r\n",
    "    vendedor, unidades_vendidas = venda\r\n",
    "    if unidades_vendidas > meta:\r\n",
    "        print('O vendedor {} vendeu {} unidades e bateu a meta.'.format(vendedor, unidades_vendidas))"
   ],
   "outputs": [
    {
     "output_type": "stream",
     "name": "stdout",
     "text": [
      "O vendedor João vendeu 15000 unidades e bateu a meta.\n",
      "O vendedor Julia vendeu 27000 unidades e bateu a meta.\n",
      "O vendedor Ana vendeu 10300 unidades e bateu a meta.\n"
     ]
    }
   ],
   "metadata": {}
  },
  {
   "cell_type": "markdown",
   "source": [
    "## 2. Comparação com Ano Anterior\n",
    "\n",
    "Digamos que você está analisando as vendas de produtos de um ecommerce e quer identificar quais produtos tiveram no ano de 2020 mais vendas do que no ano de 2019, para reportar isso para a diretoria.\n",
    "\n",
    "Sua resposta pode ser um print de cada produto, qual foi a venda de 2019, a venda de 2020 e o % de crescimento de 2020 para 2019.\n",
    "\n",
    "Lembrando, para calcular o % de crescimento de um produto de um ano para o outro, podemos fazer: (vendas_produto2020/vendas_produto2019 - 1)\n",
    "\n",
    "A lógica da tupla é: (produto, vendas2019, vendas2020)"
   ],
   "metadata": {}
  },
  {
   "cell_type": "code",
   "execution_count": 45,
   "source": [
    "vendas_produtos = [('iphone', 558147, 951642), ('galaxy', 712350, 244295), ('ipad', 573823, 26964), ('tv', 405252, 787604), ('máquina de café', 718654, 867660), ('kindle', 531580, 78830), ('geladeira', 973139, 710331), ('adega', 892292, 646016), ('notebook dell', 422760, 694913), ('notebook hp', 154753, 539704), ('notebook asus', 887061, 324831), ('microsoft surface', 438508, 667179), ('webcam', 237467, 295633), ('caixa de som', 489705, 725316), ('microfone', 328311, 644622), ('câmera canon', 591120, 994303)]\r\n",
    "\r\n",
    "for produto, vendas2019, vendas2020 in vendas_produtos:\r\n",
    "    if vendas2020 > vendas2019:\r\n",
    "        crescimento = vendas2020 / vendas2019 - 1\r\n",
    "        print('{} teve {} vendas em 2019, {} vendas em 2020. Crescimento de {:.1%}'.format(produto, vendas2019, vendas2020, crescimento))"
   ],
   "outputs": [
    {
     "output_type": "stream",
     "name": "stdout",
     "text": [
      "iphone teve 558147 vendas em 2019, 951642 vendas em 2020. Crescimento de 70.5%\n",
      "tv teve 405252 vendas em 2019, 787604 vendas em 2020. Crescimento de 94.3%\n",
      "máquina de café teve 718654 vendas em 2019, 867660 vendas em 2020. Crescimento de 20.7%\n",
      "notebook dell teve 422760 vendas em 2019, 694913 vendas em 2020. Crescimento de 64.4%\n",
      "notebook hp teve 154753 vendas em 2019, 539704 vendas em 2020. Crescimento de 248.8%\n",
      "microsoft surface teve 438508 vendas em 2019, 667179 vendas em 2020. Crescimento de 52.1%\n",
      "webcam teve 237467 vendas em 2019, 295633 vendas em 2020. Crescimento de 24.5%\n",
      "caixa de som teve 489705 vendas em 2019, 725316 vendas em 2020. Crescimento de 48.1%\n",
      "microfone teve 328311 vendas em 2019, 644622 vendas em 2020. Crescimento de 96.3%\n",
      "câmera canon teve 591120 vendas em 2019, 994303 vendas em 2020. Crescimento de 68.2%\n"
     ]
    }
   ],
   "metadata": {}
  }
 ],
 "metadata": {
  "kernelspec": {
   "name": "python3",
   "display_name": "Python 3.9.6 64-bit"
  },
  "language_info": {
   "codemirror_mode": {
    "name": "ipython",
    "version": 3
   },
   "file_extension": ".py",
   "mimetype": "text/x-python",
   "name": "python",
   "nbconvert_exporter": "python",
   "pygments_lexer": "ipython3",
   "version": "3.9.6"
  },
  "interpreter": {
   "hash": "e4bfd4a1e25b52614df0ea3d2a9f528fe07ea6cf6389d30a64eed3046b397ae6"
  }
 },
 "nbformat": 4,
 "nbformat_minor": 4
}