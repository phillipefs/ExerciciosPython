{
 "cells": [
  {
   "cell_type": "markdown",
   "source": [
    "# Integração do Python com Arquivos txt\n",
    "\n",
    "Como quase tudo no Python, existem várias formas de ler um arquivo no Python.\n",
    "\n",
    "Aprendemos em módulos passadas a ler arquivos em Excel ou csv com o Pandas, minha recomendação é que, sempre que possível, use o pandas para isso porque ele é um módulo feito para análise de dados e tem muita coisa pronta dentro dele.\n",
    "\n",
    "Caso queira ler um arquivo txt simplesmente ou escrever um, vamos ver agora como fazer.\n",
    "\n",
    "### Estrutura:"
   ],
   "metadata": {}
  },
  {
   "cell_type": "raw",
   "source": [
    "1. Método open: -> Abre um arquivo txt\r\n",
    "\r\n",
    "arquivo = open('NomeArquivo.txt', 'r')\r\n",
    "\r\n",
    "Usamos 'r' para abrir o arquivo para ler (read) e 'w' quando estamos abrindo o arquivo para escrever (write) ou 'a' se formos adicionar (append) uma informação no arquivo"
   ],
   "metadata": {}
  },
  {
   "cell_type": "markdown",
   "source": [
    "- Com o arquivo aberto, agora podemos efetivamente ler o arquivo com os métodos:"
   ],
   "metadata": {}
  },
  {
   "cell_type": "raw",
   "source": [
    "2. Método read():\r\n",
    "\r\n",
    "texto_arquivo = arquivo.read()\r\n",
    "\r\n",
    "3. Método readlines():\r\n",
    "\r\n",
    "lista_linhas = arquivo.readlines()"
   ],
   "metadata": {}
  },
  {
   "cell_type": "markdown",
   "source": [
    "- Para escrever alguma coisa no arquivo teremos o método write:"
   ],
   "metadata": {}
  },
  {
   "cell_type": "raw",
   "source": [
    "4. Método write():\r\n",
    "\r\n",
    "arquivo.write('Texto que quero escrever')"
   ],
   "metadata": {}
  },
  {
   "cell_type": "markdown",
   "source": [
    "- Obs: Quando você abre um arquivo, ele permanece aberto no Python até você fechar. Existem 2 formas de fazer isso:"
   ],
   "metadata": {}
  },
  {
   "cell_type": "raw",
   "source": [
    "5. Método close():\r\n",
    "\r\n",
    "arquivo.close()\r\n",
    "\r\n",
    "6. Usando a estrutura with: -> ao final do with, a própria estrutura with fecha automaticamente o arquivo\r\n",
    "\r\n",
    "with open('NomeArquivo.txt', 'w') as arquivo:\r\n",
    "    arquivo.write()\r\n",
    "    ..."
   ],
   "metadata": {}
  },
  {
   "cell_type": "markdown",
   "source": [
    "### Desafio onde vamos aprender:\n",
    "\n",
    "- Na Hashtag, sempre analisamos o nosso \"Funil de Vendas\". Para isso, rastreamos de onde veio os alunos por meio de um código, do tipo:\n",
    "    - hashtag_site_org -> Pessoas que vieram pelo site da Hashtag\n",
    "    - hashtag_yt_org -> Pessoas que vieram pelo Youtube da Hashtag\n",
    "    - hashtag_ig_org -> Pessoas que vieram pelo Instagram da Hashtag\n",
    "    - hashtag_igfb_org -> Pessoas que vieram pelo Instagram ou Facebook da Hashtag\n",
    "\n",
    "Os códigos diferentes disso, são códigos de anúncio da Hashtag.\n",
    "\n",
    "- Queremos analisar quantos alunos vieram de anúncio e quantos vieram \"orgânico\".\n",
    "- Qual a melhor fonte \"orgânica\" de alunos\n",
    "\n",
    "Obs: orgânico é tudo aquilo que não veio de anúncios.\n",
    "\n",
    "No nosso sistema, conseguimos exportar um txt com as informações dos alunos, conforme o arquivo Alunos.txt<br>\n",
    "(Os dados foram gerados aleatoriamente para simular uma situação real, já que não podemos fornecer os dados reais dos alunos por questões de segurança)\n",
    "\n",
    "- No final, para treinar, vamos escrever todas essas respostas em um novo arquivo txt"
   ],
   "metadata": {}
  },
  {
   "cell_type": "code",
   "execution_count": 1,
   "source": [
    "arquivo = open('16 - Alunos.txt', 'r')\r\n",
    "linhas = arquivo.readlines()\r\n",
    "del linhas[:4]\r\n",
    "\r\n",
    "#criar indicadores\r\n",
    "qtde_anuncio = 0\r\n",
    "qtde_org = 0\r\n",
    "qtde_yt_org = 0\r\n",
    "qtde_igfb_org = 0\r\n",
    "qtde_site_org = 0\r\n",
    "\r\n",
    "#percorrer o arquivo\r\n",
    "for linha in linhas:\r\n",
    "    email, origem = linha.split(',')\r\n",
    "    if '_org' in origem:\r\n",
    "        qtde_org += 1\r\n",
    "        if 'hashtag_yt_org' in origem:\r\n",
    "            qtde_yt_org += 1\r\n",
    "        if 'hashtag_site_org' in origem:\r\n",
    "            qtde_site_org += 1\r\n",
    "        if 'hashtag_ig_org' in origem or 'hashtag_igfb_org' in origem:\r\n",
    "            qtde_igfb_org += 1\r\n",
    "    else:\r\n",
    "        qtde_anuncio += 1\r\n",
    "    \r\n",
    "    \r\n",
    "#fechar arquivo\r\n",
    "arquivo.close()\r\n",
    "\r\n",
    "\r\n",
    "with open('16-Indicadores.txt', 'w') as arquivo_indicadores:\r\n",
    "    arquivo_indicadores.write('Quantidade Anuncio: {}\\n'.format(qtde_anuncio))\r\n",
    "    arquivo_indicadores.write('Quantidade Orgânico: {}\\n'.format(qtde_org))\r\n",
    "    arquivo_indicadores.write('Quantidade Youtube: {}\\n'.format(qtde_yt_org))\r\n",
    "    arquivo_indicadores.write('Quantidade Instagram: {}\\n'.format(qtde_igfb_org))\r\n",
    "    arquivo_indicadores.write('Quantidade Site: {}\\n'.format(qtde_site_org))\r\n",
    "print('Fim do Código')"
   ],
   "outputs": [
    {
     "output_type": "stream",
     "name": "stdout",
     "text": [
      "Fim do Código\n"
     ]
    }
   ],
   "metadata": {}
  }
 ],
 "metadata": {
  "kernelspec": {
   "name": "python3",
   "display_name": "Python 3.9.6 64-bit"
  },
  "language_info": {
   "codemirror_mode": {
    "name": "ipython",
    "version": 3
   },
   "file_extension": ".py",
   "mimetype": "text/x-python",
   "name": "python",
   "nbconvert_exporter": "python",
   "pygments_lexer": "ipython3",
   "version": "3.9.6"
  },
  "interpreter": {
   "hash": "e4bfd4a1e25b52614df0ea3d2a9f528fe07ea6cf6389d30a64eed3046b397ae6"
  }
 },
 "nbformat": 4,
 "nbformat_minor": 4
}